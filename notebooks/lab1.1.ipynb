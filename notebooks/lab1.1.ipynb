{
 "cells": [
  {
   "cell_type": "code",
   "execution_count": null,
   "id": "645cc030-6182-4aca-9306-d3d2e25fe0ca",
   "metadata": {
    "editable": true,
    "slideshow": {
     "slide_type": ""
    },
    "tags": []
   },
   "outputs": [],
   "source": [
    "import sys\n",
    "import numpy as np\n",
    "import sympy as sp\n",
    "from numpy.linalg import inv\n",
    "\n",
    "sys.path.append('C:\\\\Users\\\\Mark\\\\PycharmProjects\\\\machineLearningNstu')\n",
    "\n",
    "from src.data.varianсe_analysis import get_two_factor_observation_matrix"
   ]
  },
  {
   "cell_type": "markdown",
   "id": "6471abf3-5b27-4b3c-8d5f-1fa8c5d341ef",
   "metadata": {},
   "source": [
    "# Матрица наблюдений"
   ]
  },
  {
   "cell_type": "code",
   "execution_count": 3,
   "id": "b5acabcb-6a47-4797-996d-dee6c9a8f373",
   "metadata": {},
   "outputs": [
    {
     "name": "stdout",
     "output_type": "stream",
     "text": [
      "(24, 8)\n"
     ]
    },
    {
     "data": {
      "text/latex": [
       "$\\displaystyle \\left[\\begin{matrix}1 & 1 & 0 & 0 & 1 & 0 & 0 & 0\\\\1 & 1 & 0 & 0 & 1 & 0 & 0 & 0\\\\1 & 1 & 0 & 0 & 0 & 1 & 0 & 0\\\\1 & 1 & 0 & 0 & 0 & 1 & 0 & 0\\\\1 & 1 & 0 & 0 & 0 & 0 & 1 & 0\\\\1 & 1 & 0 & 0 & 0 & 0 & 1 & 0\\\\1 & 1 & 0 & 0 & 0 & 0 & 0 & 1\\\\1 & 1 & 0 & 0 & 0 & 0 & 0 & 1\\\\1 & 0 & 1 & 0 & 1 & 0 & 0 & 0\\\\1 & 0 & 1 & 0 & 1 & 0 & 0 & 0\\\\1 & 0 & 1 & 0 & 0 & 1 & 0 & 0\\\\1 & 0 & 1 & 0 & 0 & 1 & 0 & 0\\\\1 & 0 & 1 & 0 & 0 & 0 & 1 & 0\\\\1 & 0 & 1 & 0 & 0 & 0 & 1 & 0\\\\1 & 0 & 1 & 0 & 0 & 0 & 0 & 1\\\\1 & 0 & 1 & 0 & 0 & 0 & 0 & 1\\\\1 & 0 & 0 & 1 & 1 & 0 & 0 & 0\\\\1 & 0 & 0 & 1 & 1 & 0 & 0 & 0\\\\1 & 0 & 0 & 1 & 0 & 1 & 0 & 0\\\\1 & 0 & 0 & 1 & 0 & 1 & 0 & 0\\\\1 & 0 & 0 & 1 & 0 & 0 & 1 & 0\\\\1 & 0 & 0 & 1 & 0 & 0 & 1 & 0\\\\1 & 0 & 0 & 1 & 0 & 0 & 0 & 1\\\\1 & 0 & 0 & 1 & 0 & 0 & 0 & 1\\end{matrix}\\right]$"
      ],
      "text/plain": [
       "Matrix([\n",
       "[1, 1, 0, 0, 1, 0, 0, 0],\n",
       "[1, 1, 0, 0, 1, 0, 0, 0],\n",
       "[1, 1, 0, 0, 0, 1, 0, 0],\n",
       "[1, 1, 0, 0, 0, 1, 0, 0],\n",
       "[1, 1, 0, 0, 0, 0, 1, 0],\n",
       "[1, 1, 0, 0, 0, 0, 1, 0],\n",
       "[1, 1, 0, 0, 0, 0, 0, 1],\n",
       "[1, 1, 0, 0, 0, 0, 0, 1],\n",
       "[1, 0, 1, 0, 1, 0, 0, 0],\n",
       "[1, 0, 1, 0, 1, 0, 0, 0],\n",
       "[1, 0, 1, 0, 0, 1, 0, 0],\n",
       "[1, 0, 1, 0, 0, 1, 0, 0],\n",
       "[1, 0, 1, 0, 0, 0, 1, 0],\n",
       "[1, 0, 1, 0, 0, 0, 1, 0],\n",
       "[1, 0, 1, 0, 0, 0, 0, 1],\n",
       "[1, 0, 1, 0, 0, 0, 0, 1],\n",
       "[1, 0, 0, 1, 1, 0, 0, 0],\n",
       "[1, 0, 0, 1, 1, 0, 0, 0],\n",
       "[1, 0, 0, 1, 0, 1, 0, 0],\n",
       "[1, 0, 0, 1, 0, 1, 0, 0],\n",
       "[1, 0, 0, 1, 0, 0, 1, 0],\n",
       "[1, 0, 0, 1, 0, 0, 1, 0],\n",
       "[1, 0, 0, 1, 0, 0, 0, 1],\n",
       "[1, 0, 0, 1, 0, 0, 0, 1]])"
      ]
     },
     "execution_count": 3,
     "metadata": {},
     "output_type": "execute_result"
    }
   ],
   "source": [
    "X: np.array = get_two_factor_observation_matrix(3, 4, 2)\n",
    "print(X.shape)\n",
    "sp.Matrix(X)"
   ]
  },
  {
   "cell_type": "markdown",
   "id": "07a954f4-7109-4d2f-92d8-cbc066d62baf",
   "metadata": {},
   "source": [
    "# Редуцирование модели"
   ]
  },
  {
   "attachments": {
    "ff4f19c2-c866-47ea-860c-ed55a602d180.png": {
     "image/png": "[encoded data removed]"
    }
   },
   "cell_type": "markdown",
   "id": "d2694396-8aeb-40db-86d5-8187a0ad2e80",
   "metadata": {},
   "source": [
    "![image.png](attachment:ff4f19c2-c866-47ea-860c-ed55a602d180.png)"
   ]
  },
  {
   "cell_type": "code",
   "execution_count": 4,
   "id": "ec6a5561-3a9d-4dd1-a439-63af0a94bf86",
   "metadata": {
    "scrolled": true
   },
   "outputs": [
    {
     "name": "stdout",
     "output_type": "stream",
     "text": [
      "(24, 6)\n"
     ]
    },
    {
     "data": {
      "text/latex": [
       "$\\displaystyle \\left[\\begin{matrix}1 & 1 & 0 & 1 & 0 & 0\\\\1 & 1 & 0 & 1 & 0 & 0\\\\1 & 1 & 0 & 0 & 1 & 0\\\\1 & 1 & 0 & 0 & 1 & 0\\\\1 & 1 & 0 & 0 & 0 & 1\\\\1 & 1 & 0 & 0 & 0 & 1\\\\1 & 1 & 0 & 0 & 0 & 0\\\\1 & 1 & 0 & 0 & 0 & 0\\\\1 & 0 & 1 & 1 & 0 & 0\\\\1 & 0 & 1 & 1 & 0 & 0\\\\1 & 0 & 1 & 0 & 1 & 0\\\\1 & 0 & 1 & 0 & 1 & 0\\\\1 & 0 & 1 & 0 & 0 & 1\\\\1 & 0 & 1 & 0 & 0 & 1\\\\1 & 0 & 1 & 0 & 0 & 0\\\\1 & 0 & 1 & 0 & 0 & 0\\\\1 & 0 & 0 & 1 & 0 & 0\\\\1 & 0 & 0 & 1 & 0 & 0\\\\1 & 0 & 0 & 0 & 1 & 0\\\\1 & 0 & 0 & 0 & 1 & 0\\\\1 & 0 & 0 & 0 & 0 & 1\\\\1 & 0 & 0 & 0 & 0 & 1\\\\1 & 0 & 0 & 0 & 0 & 0\\\\1 & 0 & 0 & 0 & 0 & 0\\end{matrix}\\right]$"
      ],
      "text/plain": [
       "Matrix([\n",
       "[1, 1, 0, 1, 0, 0],\n",
       "[1, 1, 0, 1, 0, 0],\n",
       "[1, 1, 0, 0, 1, 0],\n",
       "[1, 1, 0, 0, 1, 0],\n",
       "[1, 1, 0, 0, 0, 1],\n",
       "[1, 1, 0, 0, 0, 1],\n",
       "[1, 1, 0, 0, 0, 0],\n",
       "[1, 1, 0, 0, 0, 0],\n",
       "[1, 0, 1, 1, 0, 0],\n",
       "[1, 0, 1, 1, 0, 0],\n",
       "[1, 0, 1, 0, 1, 0],\n",
       "[1, 0, 1, 0, 1, 0],\n",
       "[1, 0, 1, 0, 0, 1],\n",
       "[1, 0, 1, 0, 0, 1],\n",
       "[1, 0, 1, 0, 0, 0],\n",
       "[1, 0, 1, 0, 0, 0],\n",
       "[1, 0, 0, 1, 0, 0],\n",
       "[1, 0, 0, 1, 0, 0],\n",
       "[1, 0, 0, 0, 1, 0],\n",
       "[1, 0, 0, 0, 1, 0],\n",
       "[1, 0, 0, 0, 0, 1],\n",
       "[1, 0, 0, 0, 0, 1],\n",
       "[1, 0, 0, 0, 0, 0],\n",
       "[1, 0, 0, 0, 0, 0]])"
      ]
     },
     "execution_count": 4,
     "metadata": {},
     "output_type": "execute_result"
    }
   ],
   "source": [
    "X_1: np.ndarray = np.delete(X, [3, -1], axis=1)\n",
    "print(X_1.shape)\n",
    "sp.Matrix(X_1)"
   ]
  },
  {
   "cell_type": "code",
   "execution_count": 6,
   "id": "5ea23caa-7851-428b-8701-91d84fedc231",
   "metadata": {},
   "outputs": [
    {
     "name": "stdout",
     "output_type": "stream",
     "text": [
      "(24, 2)\n"
     ]
    },
    {
     "data": {
      "text/latex": [
       "$\\displaystyle \\left[\\begin{matrix}0 & 0\\\\0 & 0\\\\0 & 0\\\\0 & 0\\\\0 & 0\\\\0 & 0\\\\0 & 1\\\\0 & 1\\\\0 & 0\\\\0 & 0\\\\0 & 0\\\\0 & 0\\\\0 & 0\\\\0 & 0\\\\0 & 1\\\\0 & 1\\\\1 & 0\\\\1 & 0\\\\1 & 0\\\\1 & 0\\\\1 & 0\\\\1 & 0\\\\1 & 1\\\\1 & 1\\end{matrix}\\right]$"
      ],
      "text/plain": [
       "Matrix([\n",
       "[0, 0],\n",
       "[0, 0],\n",
       "[0, 0],\n",
       "[0, 0],\n",
       "[0, 0],\n",
       "[0, 0],\n",
       "[0, 1],\n",
       "[0, 1],\n",
       "[0, 0],\n",
       "[0, 0],\n",
       "[0, 0],\n",
       "[0, 0],\n",
       "[0, 0],\n",
       "[0, 0],\n",
       "[0, 1],\n",
       "[0, 1],\n",
       "[1, 0],\n",
       "[1, 0],\n",
       "[1, 0],\n",
       "[1, 0],\n",
       "[1, 0],\n",
       "[1, 0],\n",
       "[1, 1],\n",
       "[1, 1]])"
      ]
     },
     "execution_count": 6,
     "metadata": {},
     "output_type": "execute_result"
    }
   ],
   "source": [
    "X_2: np.ndarray = X[:, [3, -1]]\n",
    "print(X_2.shape)\n",
    "sp.Matrix(X_2)"
   ]
  },
  {
   "attachments": {
    "0c2355a9-06c1-4679-b002-3011c4bdc141.png": {
     "image/png": "[encoded data removed]"
    }
   },
   "cell_type": "markdown",
   "id": "a27779e4-99c6-411c-8c87-270b81eac884",
   "metadata": {},
   "source": [
    "![image.png](attachment:0c2355a9-06c1-4679-b002-3011c4bdc141.png)"
   ]
  },
  {
   "cell_type": "code",
   "execution_count": 7,
   "id": "be11e7e1-be56-4c92-af2f-d9467e81d936",
   "metadata": {},
   "outputs": [
    {
     "name": "stdout",
     "output_type": "stream",
     "text": [
      "(6, 2)\n"
     ]
    },
    {
     "data": {
      "text/latex": [
       "$\\displaystyle \\left[\\begin{matrix}1.0 & 1.0\\\\-1.0 & 0\\\\-1.0 & 0\\\\0 & -1.0\\\\0 & -1.0\\\\0 & -1.0\\end{matrix}\\right]$"
      ],
      "text/plain": [
       "Matrix([\n",
       "[ 1.0,  1.0],\n",
       "[-1.0,    0],\n",
       "[-1.0,    0],\n",
       "[   0, -1.0],\n",
       "[   0, -1.0],\n",
       "[   0, -1.0]])"
      ]
     },
     "execution_count": 7,
     "metadata": {},
     "output_type": "execute_result"
    }
   ],
   "source": [
    "А_wavy: np.ndarray = np.round(np.dot(np.dot(inv(np.dot(X_1.T, X_1)), X_1.T), X_2), 4)\n",
    "print(А_wavy.shape)\n",
    "sp.Matrix(А_wavy)"
   ]
  },
  {
   "attachments": {
    "a92d2a5a-9cc0-49f6-88b7-499887cab7dc.png": {
     "image/png": "[encoded data removed]"
    }
   },
   "cell_type": "markdown",
   "id": "46cc6259-c422-484e-aa0d-efbd23c2e33c",
   "metadata": {},
   "source": [
    "![image.png](attachment:a92d2a5a-9cc0-49f6-88b7-499887cab7dc.png)"
   ]
  },
  {
   "cell_type": "code",
   "execution_count": 8,
   "id": "47789e9b-049a-41b7-bae6-1cb9be1b016b",
   "metadata": {},
   "outputs": [
    {
     "name": "stdout",
     "output_type": "stream",
     "text": [
      "(6, 6)\n"
     ]
    },
    {
     "data": {
      "text/latex": [
       "$\\displaystyle \\left[\\begin{matrix}1.0 & 0 & 0 & 0 & 0 & 0\\\\0 & 1.0 & 0 & 0 & 0 & 0\\\\0 & 0 & 1.0 & 0 & 0 & 0\\\\0 & 0 & 0 & 1.0 & 0 & 0\\\\0 & 0 & 0 & 0 & 1.0 & 0\\\\0 & 0 & 0 & 0 & 0 & 1.0\\end{matrix}\\right]$"
      ],
      "text/plain": [
       "Matrix([\n",
       "[1.0,   0,   0,   0,   0,   0],\n",
       "[  0, 1.0,   0,   0,   0,   0],\n",
       "[  0,   0, 1.0,   0,   0,   0],\n",
       "[  0,   0,   0, 1.0,   0,   0],\n",
       "[  0,   0,   0,   0, 1.0,   0],\n",
       "[  0,   0,   0,   0,   0, 1.0]])"
      ]
     },
     "execution_count": 8,
     "metadata": {},
     "output_type": "execute_result"
    }
   ],
   "source": [
    "I_r: np.ndarray = np.eye(6)\n",
    "print(I_r.shape)\n",
    "sp.Matrix(I_r)"
   ]
  },
  {
   "attachments": {
    "a595d9fe-1db9-4347-b526-aa036b0e2744.png": {
     "image/png": "[encoded data removed]"
    }
   },
   "cell_type": "markdown",
   "id": "42081dfb-e24d-4416-a26e-b8ff51fd9f62",
   "metadata": {},
   "source": [
    "![image.png](attachment:a595d9fe-1db9-4347-b526-aa036b0e2744.png)"
   ]
  },
  {
   "cell_type": "code",
   "execution_count": 9,
   "id": "e96c9bad-f3eb-49a0-9f06-591eef3d39dd",
   "metadata": {},
   "outputs": [
    {
     "name": "stdout",
     "output_type": "stream",
     "text": [
      "(6, 8)\n"
     ]
    },
    {
     "data": {
      "text/latex": [
       "$\\displaystyle \\left[\\begin{matrix}1.0 & 0 & 0 & 0 & 0 & 0 & 1.0 & 1.0\\\\0 & 1.0 & 0 & 0 & 0 & 0 & -1.0 & 0\\\\0 & 0 & 1.0 & 0 & 0 & 0 & -1.0 & 0\\\\0 & 0 & 0 & 1.0 & 0 & 0 & 0 & -1.0\\\\0 & 0 & 0 & 0 & 1.0 & 0 & 0 & -1.0\\\\0 & 0 & 0 & 0 & 0 & 1.0 & 0 & -1.0\\end{matrix}\\right]$"
      ],
      "text/plain": [
       "Matrix([\n",
       "[1.0,   0,   0,   0,   0,   0,  1.0,  1.0],\n",
       "[  0, 1.0,   0,   0,   0,   0, -1.0,    0],\n",
       "[  0,   0, 1.0,   0,   0,   0, -1.0,    0],\n",
       "[  0,   0,   0, 1.0,   0,   0,    0, -1.0],\n",
       "[  0,   0,   0,   0, 1.0,   0,    0, -1.0],\n",
       "[  0,   0,   0,   0,   0, 1.0,    0, -1.0]])"
      ]
     },
     "execution_count": 9,
     "metadata": {},
     "output_type": "execute_result"
    }
   ],
   "source": [
    "A: np.ndarray = np.hstack([I_r, А_wavy])\n",
    "print(A.shape)\n",
    "sp.Matrix(A) "
   ]
  },
  {
   "cell_type": "code",
   "execution_count": 10,
   "id": "90feb0ed-3b88-4fd8-a88d-41ae925f8f30",
   "metadata": {},
   "outputs": [
    {
     "name": "stdout",
     "output_type": "stream",
     "text": [
      "(24, 8)\n"
     ]
    },
    {
     "data": {
      "text/latex": [
       "$\\displaystyle \\left[\\begin{matrix}1.0 & 1.0 & 0 & 1.0 & 0 & 0 & 0 & 0\\\\1.0 & 1.0 & 0 & 1.0 & 0 & 0 & 0 & 0\\\\1.0 & 1.0 & 0 & 0 & 1.0 & 0 & 0 & 0\\\\1.0 & 1.0 & 0 & 0 & 1.0 & 0 & 0 & 0\\\\1.0 & 1.0 & 0 & 0 & 0 & 1.0 & 0 & 0\\\\1.0 & 1.0 & 0 & 0 & 0 & 1.0 & 0 & 0\\\\1.0 & 1.0 & 0 & 0 & 0 & 0 & 0 & 1.0\\\\1.0 & 1.0 & 0 & 0 & 0 & 0 & 0 & 1.0\\\\1.0 & 0 & 1.0 & 1.0 & 0 & 0 & 0 & 0\\\\1.0 & 0 & 1.0 & 1.0 & 0 & 0 & 0 & 0\\\\1.0 & 0 & 1.0 & 0 & 1.0 & 0 & 0 & 0\\\\1.0 & 0 & 1.0 & 0 & 1.0 & 0 & 0 & 0\\\\1.0 & 0 & 1.0 & 0 & 0 & 1.0 & 0 & 0\\\\1.0 & 0 & 1.0 & 0 & 0 & 1.0 & 0 & 0\\\\1.0 & 0 & 1.0 & 0 & 0 & 0 & 0 & 1.0\\\\1.0 & 0 & 1.0 & 0 & 0 & 0 & 0 & 1.0\\\\1.0 & 0 & 0 & 1.0 & 0 & 0 & 1.0 & 0\\\\1.0 & 0 & 0 & 1.0 & 0 & 0 & 1.0 & 0\\\\1.0 & 0 & 0 & 0 & 1.0 & 0 & 1.0 & 0\\\\1.0 & 0 & 0 & 0 & 1.0 & 0 & 1.0 & 0\\\\1.0 & 0 & 0 & 0 & 0 & 1.0 & 1.0 & 0\\\\1.0 & 0 & 0 & 0 & 0 & 1.0 & 1.0 & 0\\\\1.0 & 0 & 0 & 0 & 0 & 0 & 1.0 & 1.0\\\\1.0 & 0 & 0 & 0 & 0 & 0 & 1.0 & 1.0\\end{matrix}\\right]$"
      ],
      "text/plain": [
       "Matrix([\n",
       "[1.0, 1.0,   0, 1.0,   0,   0,   0,   0],\n",
       "[1.0, 1.0,   0, 1.0,   0,   0,   0,   0],\n",
       "[1.0, 1.0,   0,   0, 1.0,   0,   0,   0],\n",
       "[1.0, 1.0,   0,   0, 1.0,   0,   0,   0],\n",
       "[1.0, 1.0,   0,   0,   0, 1.0,   0,   0],\n",
       "[1.0, 1.0,   0,   0,   0, 1.0,   0,   0],\n",
       "[1.0, 1.0,   0,   0,   0,   0,   0, 1.0],\n",
       "[1.0, 1.0,   0,   0,   0,   0,   0, 1.0],\n",
       "[1.0,   0, 1.0, 1.0,   0,   0,   0,   0],\n",
       "[1.0,   0, 1.0, 1.0,   0,   0,   0,   0],\n",
       "[1.0,   0, 1.0,   0, 1.0,   0,   0,   0],\n",
       "[1.0,   0, 1.0,   0, 1.0,   0,   0,   0],\n",
       "[1.0,   0, 1.0,   0,   0, 1.0,   0,   0],\n",
       "[1.0,   0, 1.0,   0,   0, 1.0,   0,   0],\n",
       "[1.0,   0, 1.0,   0,   0,   0,   0, 1.0],\n",
       "[1.0,   0, 1.0,   0,   0,   0,   0, 1.0],\n",
       "[1.0,   0,   0, 1.0,   0,   0, 1.0,   0],\n",
       "[1.0,   0,   0, 1.0,   0,   0, 1.0,   0],\n",
       "[1.0,   0,   0,   0, 1.0,   0, 1.0,   0],\n",
       "[1.0,   0,   0,   0, 1.0,   0, 1.0,   0],\n",
       "[1.0,   0,   0,   0,   0, 1.0, 1.0,   0],\n",
       "[1.0,   0,   0,   0,   0, 1.0, 1.0,   0],\n",
       "[1.0,   0,   0,   0,   0,   0, 1.0, 1.0],\n",
       "[1.0,   0,   0,   0,   0,   0, 1.0, 1.0]])"
      ]
     },
     "execution_count": 10,
     "metadata": {},
     "output_type": "execute_result"
    }
   ],
   "source": [
    "X_reduced: np.ndarray = np.round(np.dot(X_1, A), 4)\n",
    "print(X_reduced.shape)\n",
    "sp.Matrix(X_reduced)"
   ]
  },
  {
   "cell_type": "markdown",
   "id": "7b467cdd-eb7d-4c86-83f7-76727e0a2a74",
   "metadata": {},
   "source": [
    "# МНК-оценивание редуцированной модели"
   ]
  },
  {
   "attachments": {
    "836eb683-b2f9-4d44-a51d-447862dc8c30.png": {
     "image/png": "[encoded data removed]"
    }
   },
   "cell_type": "markdown",
   "id": "75790250-c926-4183-be49-c37c4b9ff4f4",
   "metadata": {},
   "source": [
    "![image.png](attachment:836eb683-b2f9-4d44-a51d-447862dc8c30.png)"
   ]
  },
  {
   "cell_type": "code",
   "execution_count": 17,
   "id": "9e164170-9341-4b6b-b765-0f4594de5373",
   "metadata": {},
   "outputs": [
    {
     "name": "stdout",
     "output_type": "stream",
     "text": [
      "(24, 1)\n"
     ]
    },
    {
     "data": {
      "text/latex": [
       "$\\displaystyle \\left[\\begin{matrix}3.1\\\\2.9\\\\4.1\\\\3.9\\\\2.1\\\\1.9\\\\2.1\\\\1.9\\\\3.9\\\\4.1\\\\4.9\\\\5.1\\\\2.9\\\\3.1\\\\3.0\\\\3.0\\\\2.1\\\\1.9\\\\3.1\\\\2.9\\\\1.1\\\\0.9\\\\1.0\\\\1.0\\end{matrix}\\right]$"
      ],
      "text/plain": [
       "Matrix([\n",
       "[3.1],\n",
       "[2.9],\n",
       "[4.1],\n",
       "[3.9],\n",
       "[2.1],\n",
       "[1.9],\n",
       "[2.1],\n",
       "[1.9],\n",
       "[3.9],\n",
       "[4.1],\n",
       "[4.9],\n",
       "[5.1],\n",
       "[2.9],\n",
       "[3.1],\n",
       "[3.0],\n",
       "[3.0],\n",
       "[2.1],\n",
       "[1.9],\n",
       "[3.1],\n",
       "[2.9],\n",
       "[1.1],\n",
       "[0.9],\n",
       "[1.0],\n",
       "[1.0]])"
      ]
     },
     "execution_count": 17,
     "metadata": {},
     "output_type": "execute_result"
    }
   ],
   "source": [
    "Y = [\n",
    "    # A1\n",
    "    3.1, 2.9, \n",
    "    4.1, 3.9, \n",
    "    2.1, 1.9,\n",
    "    2.1, 1.9,\n",
    "    # A2\n",
    "    3.9, 4.1, \n",
    "    4.9, 5.1,\n",
    "    2.9, 3.1,\n",
    "    3.0, 3.0,\n",
    "    # A3\n",
    "    2.1, 1.9,\n",
    "    3.1, 2.9,\n",
    "    1.1, 0.9,\n",
    "    1.0, 1.0\n",
    "]\n",
    "Y: np.array = np.array([Y]).T\n",
    "print(Y.shape)\n",
    "sp.Matrix(Y)"
   ]
  },
  {
   "cell_type": "code",
   "execution_count": 33,
   "id": "674fe8c3-44c6-4b6b-b4fd-55d303924105",
   "metadata": {},
   "outputs": [
    {
     "name": "stdout",
     "output_type": "stream",
     "text": [
      "(6, 1)\n"
     ]
    },
    {
     "data": {
      "text/latex": [
       "$\\displaystyle \\left[\\begin{matrix}1.0\\\\1.0\\\\2.0\\\\1.0\\\\2.0\\\\0\\end{matrix}\\right]$"
      ],
      "text/plain": [
       "Matrix([\n",
       "[1.0],\n",
       "[1.0],\n",
       "[2.0],\n",
       "[1.0],\n",
       "[2.0],\n",
       "[  0]])"
      ]
     },
     "execution_count": 33,
     "metadata": {},
     "output_type": "execute_result"
    }
   ],
   "source": [
    "theta_dashed: np.ndarray = np.round(np.dot(np.dot(inv(np.dot(X_1.T, X_1)), X_1.T), Y), 4)\n",
    "print(theta_dashed.shape)\n",
    "sp.Matrix(theta_dashed)"
   ]
  }
 ],
 "metadata": {
  "kernelspec": {
   "display_name": "Python 3 (ipykernel)",
   "language": "python",
   "name": "python3"
  },
  "language_info": {
   "codemirror_mode": {
    "name": "ipython",
    "version": 3
   },
   "file_extension": ".py",
   "mimetype": "text/x-python",
   "name": "python",
   "nbconvert_exporter": "python",
   "pygments_lexer": "ipython3",
   "version": "3.12.0"
  }
 },
 "nbformat": 4,
 "nbformat_minor": 5
}
