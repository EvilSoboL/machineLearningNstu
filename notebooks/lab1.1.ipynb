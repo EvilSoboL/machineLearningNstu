{
 "cells": [
  {
   "cell_type": "code",
   "execution_count": 1,
   "id": "645cc030-6182-4aca-9306-d3d2e25fe0ca",
   "metadata": {
    "editable": true,
    "slideshow": {
     "slide_type": ""
    },
    "tags": []
   },
   "outputs": [],
   "source": [
    "import sys\n",
    "import numpy as np\n",
    "import sympy as sp\n",
    "from numpy.linalg import inv\n",
    "from scipy.stats import f\n",
    "\n",
    "sys.path.append('C:\\\\Users\\\\Mark\\\\PycharmProjects\\\\machineLearningNstu')\n",
    "\n",
    "from src.data.varianсe_analysis import get_two_factor_observation_matrix"
   ]
  },
  {
   "cell_type": "markdown",
   "id": "6471abf3-5b27-4b3c-8d5f-1fa8c5d341ef",
   "metadata": {},
   "source": [
    "# Матрица наблюдений"
   ]
  },
  {
   "cell_type": "code",
   "execution_count": 2,
   "id": "b5acabcb-6a47-4797-996d-dee6c9a8f373",
   "metadata": {},
   "outputs": [
    {
     "name": "stdout",
     "output_type": "stream",
     "text": [
      "(24, 8)\n"
     ]
    },
    {
     "data": {
      "text/latex": [
       "$\\displaystyle \\left[\\begin{matrix}1 & 1 & 0 & 0 & 1 & 0 & 0 & 0\\\\1 & 1 & 0 & 0 & 1 & 0 & 0 & 0\\\\1 & 1 & 0 & 0 & 0 & 1 & 0 & 0\\\\1 & 1 & 0 & 0 & 0 & 1 & 0 & 0\\\\1 & 1 & 0 & 0 & 0 & 0 & 1 & 0\\\\1 & 1 & 0 & 0 & 0 & 0 & 1 & 0\\\\1 & 1 & 0 & 0 & 0 & 0 & 0 & 1\\\\1 & 1 & 0 & 0 & 0 & 0 & 0 & 1\\\\1 & 0 & 1 & 0 & 1 & 0 & 0 & 0\\\\1 & 0 & 1 & 0 & 1 & 0 & 0 & 0\\\\1 & 0 & 1 & 0 & 0 & 1 & 0 & 0\\\\1 & 0 & 1 & 0 & 0 & 1 & 0 & 0\\\\1 & 0 & 1 & 0 & 0 & 0 & 1 & 0\\\\1 & 0 & 1 & 0 & 0 & 0 & 1 & 0\\\\1 & 0 & 1 & 0 & 0 & 0 & 0 & 1\\\\1 & 0 & 1 & 0 & 0 & 0 & 0 & 1\\\\1 & 0 & 0 & 1 & 1 & 0 & 0 & 0\\\\1 & 0 & 0 & 1 & 1 & 0 & 0 & 0\\\\1 & 0 & 0 & 1 & 0 & 1 & 0 & 0\\\\1 & 0 & 0 & 1 & 0 & 1 & 0 & 0\\\\1 & 0 & 0 & 1 & 0 & 0 & 1 & 0\\\\1 & 0 & 0 & 1 & 0 & 0 & 1 & 0\\\\1 & 0 & 0 & 1 & 0 & 0 & 0 & 1\\\\1 & 0 & 0 & 1 & 0 & 0 & 0 & 1\\end{matrix}\\right]$"
      ],
      "text/plain": [
       "Matrix([\n",
       "[1, 1, 0, 0, 1, 0, 0, 0],\n",
       "[1, 1, 0, 0, 1, 0, 0, 0],\n",
       "[1, 1, 0, 0, 0, 1, 0, 0],\n",
       "[1, 1, 0, 0, 0, 1, 0, 0],\n",
       "[1, 1, 0, 0, 0, 0, 1, 0],\n",
       "[1, 1, 0, 0, 0, 0, 1, 0],\n",
       "[1, 1, 0, 0, 0, 0, 0, 1],\n",
       "[1, 1, 0, 0, 0, 0, 0, 1],\n",
       "[1, 0, 1, 0, 1, 0, 0, 0],\n",
       "[1, 0, 1, 0, 1, 0, 0, 0],\n",
       "[1, 0, 1, 0, 0, 1, 0, 0],\n",
       "[1, 0, 1, 0, 0, 1, 0, 0],\n",
       "[1, 0, 1, 0, 0, 0, 1, 0],\n",
       "[1, 0, 1, 0, 0, 0, 1, 0],\n",
       "[1, 0, 1, 0, 0, 0, 0, 1],\n",
       "[1, 0, 1, 0, 0, 0, 0, 1],\n",
       "[1, 0, 0, 1, 1, 0, 0, 0],\n",
       "[1, 0, 0, 1, 1, 0, 0, 0],\n",
       "[1, 0, 0, 1, 0, 1, 0, 0],\n",
       "[1, 0, 0, 1, 0, 1, 0, 0],\n",
       "[1, 0, 0, 1, 0, 0, 1, 0],\n",
       "[1, 0, 0, 1, 0, 0, 1, 0],\n",
       "[1, 0, 0, 1, 0, 0, 0, 1],\n",
       "[1, 0, 0, 1, 0, 0, 0, 1]])"
      ]
     },
     "execution_count": 2,
     "metadata": {},
     "output_type": "execute_result"
    }
   ],
   "source": [
    "X: np.array = get_two_factor_observation_matrix(3, 4, 2)\n",
    "print(X.shape)\n",
    "sp.Matrix(X)"
   ]
  },
  {
   "cell_type": "code",
   "execution_count": 1,
   "id": "8afdc90c-f169-43cf-8ec5-5c9e222489f9",
   "metadata": {
    "editable": true,
    "slideshow": {
     "slide_type": ""
    },
    "tags": []
   },
   "outputs": [],
   "source": [
    "import sys\n",
    "import numpy as np\n",
    "import sympy as sp\n",
    "from numpy.linalg import inv\n",
    "from scipy.stats import f\n",
    "\n",
    "sys.path.append('C:\\\\Users\\\\Mark\\\\PycharmProjects\\\\machineLearningNstu')\n",
    "\n",
    "from src.data.varianсe_analysis import get_two_factor_observation_matrix"
   ]
  },
  {
   "cell_type": "markdown",
   "id": "07a954f4-7109-4d2f-92d8-cbc066d62baf",
   "metadata": {},
   "source": [
    "# Редуцирование модели"
   ]
  },
  {
   "attachments": {
    "ff4f19c2-c866-47ea-860c-ed55a602d180.png": {
     "image/png": "[encoded data removed]"
    }
   },
   "cell_type": "markdown",
   "id": "d2694396-8aeb-40db-86d5-8187a0ad2e80",
   "metadata": {},
   "source": [
    "![image.png](attachment:ff4f19c2-c866-47ea-860c-ed55a602d180.png)"
   ]
  },
  {
   "cell_type": "code",
   "execution_count": 3,
   "id": "ec6a5561-3a9d-4dd1-a439-63af0a94bf86",
   "metadata": {
    "scrolled": true
   },
   "outputs": [
    {
     "name": "stdout",
     "output_type": "stream",
     "text": [
      "(24, 6)\n"
     ]
    },
    {
     "data": {
      "text/latex": [
       "$\\displaystyle \\left[\\begin{matrix}1 & 1 & 0 & 1 & 0 & 0\\\\1 & 1 & 0 & 1 & 0 & 0\\\\1 & 1 & 0 & 0 & 1 & 0\\\\1 & 1 & 0 & 0 & 1 & 0\\\\1 & 1 & 0 & 0 & 0 & 1\\\\1 & 1 & 0 & 0 & 0 & 1\\\\1 & 1 & 0 & 0 & 0 & 0\\\\1 & 1 & 0 & 0 & 0 & 0\\\\1 & 0 & 1 & 1 & 0 & 0\\\\1 & 0 & 1 & 1 & 0 & 0\\\\1 & 0 & 1 & 0 & 1 & 0\\\\1 & 0 & 1 & 0 & 1 & 0\\\\1 & 0 & 1 & 0 & 0 & 1\\\\1 & 0 & 1 & 0 & 0 & 1\\\\1 & 0 & 1 & 0 & 0 & 0\\\\1 & 0 & 1 & 0 & 0 & 0\\\\1 & 0 & 0 & 1 & 0 & 0\\\\1 & 0 & 0 & 1 & 0 & 0\\\\1 & 0 & 0 & 0 & 1 & 0\\\\1 & 0 & 0 & 0 & 1 & 0\\\\1 & 0 & 0 & 0 & 0 & 1\\\\1 & 0 & 0 & 0 & 0 & 1\\\\1 & 0 & 0 & 0 & 0 & 0\\\\1 & 0 & 0 & 0 & 0 & 0\\end{matrix}\\right]$"
      ],
      "text/plain": [
       "Matrix([\n",
       "[1, 1, 0, 1, 0, 0],\n",
       "[1, 1, 0, 1, 0, 0],\n",
       "[1, 1, 0, 0, 1, 0],\n",
       "[1, 1, 0, 0, 1, 0],\n",
       "[1, 1, 0, 0, 0, 1],\n",
       "[1, 1, 0, 0, 0, 1],\n",
       "[1, 1, 0, 0, 0, 0],\n",
       "[1, 1, 0, 0, 0, 0],\n",
       "[1, 0, 1, 1, 0, 0],\n",
       "[1, 0, 1, 1, 0, 0],\n",
       "[1, 0, 1, 0, 1, 0],\n",
       "[1, 0, 1, 0, 1, 0],\n",
       "[1, 0, 1, 0, 0, 1],\n",
       "[1, 0, 1, 0, 0, 1],\n",
       "[1, 0, 1, 0, 0, 0],\n",
       "[1, 0, 1, 0, 0, 0],\n",
       "[1, 0, 0, 1, 0, 0],\n",
       "[1, 0, 0, 1, 0, 0],\n",
       "[1, 0, 0, 0, 1, 0],\n",
       "[1, 0, 0, 0, 1, 0],\n",
       "[1, 0, 0, 0, 0, 1],\n",
       "[1, 0, 0, 0, 0, 1],\n",
       "[1, 0, 0, 0, 0, 0],\n",
       "[1, 0, 0, 0, 0, 0]])"
      ]
     },
     "execution_count": 3,
     "metadata": {},
     "output_type": "execute_result"
    }
   ],
   "source": [
    "X_1: np.ndarray = np.delete(X, [3, -1], axis=1)\n",
    "print(X_1.shape)\n",
    "sp.Matrix(X_1)"
   ]
  },
  {
   "cell_type": "code",
   "execution_count": 4,
   "id": "5ea23caa-7851-428b-8701-91d84fedc231",
   "metadata": {},
   "outputs": [
    {
     "name": "stdout",
     "output_type": "stream",
     "text": [
      "(24, 2)\n"
     ]
    },
    {
     "data": {
      "text/latex": [
       "$\\displaystyle \\left[\\begin{matrix}0 & 0\\\\0 & 0\\\\0 & 0\\\\0 & 0\\\\0 & 0\\\\0 & 0\\\\0 & 1\\\\0 & 1\\\\0 & 0\\\\0 & 0\\\\0 & 0\\\\0 & 0\\\\0 & 0\\\\0 & 0\\\\0 & 1\\\\0 & 1\\\\1 & 0\\\\1 & 0\\\\1 & 0\\\\1 & 0\\\\1 & 0\\\\1 & 0\\\\1 & 1\\\\1 & 1\\end{matrix}\\right]$"
      ],
      "text/plain": [
       "Matrix([\n",
       "[0, 0],\n",
       "[0, 0],\n",
       "[0, 0],\n",
       "[0, 0],\n",
       "[0, 0],\n",
       "[0, 0],\n",
       "[0, 1],\n",
       "[0, 1],\n",
       "[0, 0],\n",
       "[0, 0],\n",
       "[0, 0],\n",
       "[0, 0],\n",
       "[0, 0],\n",
       "[0, 0],\n",
       "[0, 1],\n",
       "[0, 1],\n",
       "[1, 0],\n",
       "[1, 0],\n",
       "[1, 0],\n",
       "[1, 0],\n",
       "[1, 0],\n",
       "[1, 0],\n",
       "[1, 1],\n",
       "[1, 1]])"
      ]
     },
     "execution_count": 4,
     "metadata": {},
     "output_type": "execute_result"
    }
   ],
   "source": [
    "X_2: np.ndarray = X[:, [3, -1]]\n",
    "print(X_2.shape)\n",
    "sp.Matrix(X_2)"
   ]
  },
  {
   "attachments": {
    "0c2355a9-06c1-4679-b002-3011c4bdc141.png": {
     "image/png": "[encoded data removed]"
    }
   },
   "cell_type": "markdown",
   "id": "a27779e4-99c6-411c-8c87-270b81eac884",
   "metadata": {},
   "source": [
    "![image.png](attachment:0c2355a9-06c1-4679-b002-3011c4bdc141.png)"
   ]
  },
  {
   "cell_type": "code",
   "execution_count": 5,
   "id": "be11e7e1-be56-4c92-af2f-d9467e81d936",
   "metadata": {},
   "outputs": [
    {
     "name": "stdout",
     "output_type": "stream",
     "text": [
      "(6, 2)\n"
     ]
    },
    {
     "data": {
      "text/latex": [
       "$\\displaystyle \\left[\\begin{matrix}1.0 & 1.0\\\\-1.0 & 0\\\\-1.0 & 0\\\\0 & -1.0\\\\0 & -1.0\\\\0 & -1.0\\end{matrix}\\right]$"
      ],
      "text/plain": [
       "Matrix([\n",
       "[ 1.0,  1.0],\n",
       "[-1.0,    0],\n",
       "[-1.0,    0],\n",
       "[   0, -1.0],\n",
       "[   0, -1.0],\n",
       "[   0, -1.0]])"
      ]
     },
     "execution_count": 5,
     "metadata": {},
     "output_type": "execute_result"
    }
   ],
   "source": [
    "А_wavy: np.ndarray = np.round(np.dot(np.dot(inv(np.dot(X_1.T, X_1)), X_1.T), X_2), 4)\n",
    "print(А_wavy.shape)\n",
    "sp.Matrix(А_wavy)"
   ]
  },
  {
   "attachments": {
    "a92d2a5a-9cc0-49f6-88b7-499887cab7dc.png": {
     "image/png": "[encoded data removed]"
    }
   },
   "cell_type": "markdown",
   "id": "46cc6259-c422-484e-aa0d-efbd23c2e33c",
   "metadata": {},
   "source": [
    "![image.png](attachment:a92d2a5a-9cc0-49f6-88b7-499887cab7dc.png)"
   ]
  },
  {
   "cell_type": "code",
   "execution_count": 6,
   "id": "47789e9b-049a-41b7-bae6-1cb9be1b016b",
   "metadata": {},
   "outputs": [
    {
     "name": "stdout",
     "output_type": "stream",
     "text": [
      "(6, 6)\n"
     ]
    },
    {
     "data": {
      "text/latex": [
       "$\\displaystyle \\left[\\begin{matrix}1.0 & 0 & 0 & 0 & 0 & 0\\\\0 & 1.0 & 0 & 0 & 0 & 0\\\\0 & 0 & 1.0 & 0 & 0 & 0\\\\0 & 0 & 0 & 1.0 & 0 & 0\\\\0 & 0 & 0 & 0 & 1.0 & 0\\\\0 & 0 & 0 & 0 & 0 & 1.0\\end{matrix}\\right]$"
      ],
      "text/plain": [
       "Matrix([\n",
       "[1.0,   0,   0,   0,   0,   0],\n",
       "[  0, 1.0,   0,   0,   0,   0],\n",
       "[  0,   0, 1.0,   0,   0,   0],\n",
       "[  0,   0,   0, 1.0,   0,   0],\n",
       "[  0,   0,   0,   0, 1.0,   0],\n",
       "[  0,   0,   0,   0,   0, 1.0]])"
      ]
     },
     "execution_count": 6,
     "metadata": {},
     "output_type": "execute_result"
    }
   ],
   "source": [
    "I_r: np.ndarray = np.eye(6)\n",
    "print(I_r.shape)\n",
    "sp.Matrix(I_r)"
   ]
  },
  {
   "attachments": {
    "a595d9fe-1db9-4347-b526-aa036b0e2744.png": {
     "image/png": "[encoded data removed]"
    }
   },
   "cell_type": "markdown",
   "id": "42081dfb-e24d-4416-a26e-b8ff51fd9f62",
   "metadata": {},
   "source": [
    "![image.png](attachment:a595d9fe-1db9-4347-b526-aa036b0e2744.png)"
   ]
  },
  {
   "cell_type": "code",
   "execution_count": 7,
   "id": "e96c9bad-f3eb-49a0-9f06-591eef3d39dd",
   "metadata": {},
   "outputs": [
    {
     "name": "stdout",
     "output_type": "stream",
     "text": [
      "(6, 8)\n"
     ]
    },
    {
     "data": {
      "text/latex": [
       "$\\displaystyle \\left[\\begin{matrix}1.0 & 0 & 0 & 0 & 0 & 0 & 1.0 & 1.0\\\\0 & 1.0 & 0 & 0 & 0 & 0 & -1.0 & 0\\\\0 & 0 & 1.0 & 0 & 0 & 0 & -1.0 & 0\\\\0 & 0 & 0 & 1.0 & 0 & 0 & 0 & -1.0\\\\0 & 0 & 0 & 0 & 1.0 & 0 & 0 & -1.0\\\\0 & 0 & 0 & 0 & 0 & 1.0 & 0 & -1.0\\end{matrix}\\right]$"
      ],
      "text/plain": [
       "Matrix([\n",
       "[1.0,   0,   0,   0,   0,   0,  1.0,  1.0],\n",
       "[  0, 1.0,   0,   0,   0,   0, -1.0,    0],\n",
       "[  0,   0, 1.0,   0,   0,   0, -1.0,    0],\n",
       "[  0,   0,   0, 1.0,   0,   0,    0, -1.0],\n",
       "[  0,   0,   0,   0, 1.0,   0,    0, -1.0],\n",
       "[  0,   0,   0,   0,   0, 1.0,    0, -1.0]])"
      ]
     },
     "execution_count": 7,
     "metadata": {},
     "output_type": "execute_result"
    }
   ],
   "source": [
    "A: np.ndarray = np.hstack([I_r, А_wavy])\n",
    "print(A.shape)\n",
    "sp.Matrix(A) "
   ]
  },
  {
   "cell_type": "code",
   "execution_count": 8,
   "id": "90feb0ed-3b88-4fd8-a88d-41ae925f8f30",
   "metadata": {},
   "outputs": [
    {
     "name": "stdout",
     "output_type": "stream",
     "text": [
      "(24, 8)\n"
     ]
    },
    {
     "data": {
      "text/latex": [
       "$\\displaystyle \\left[\\begin{matrix}1.0 & 1.0 & 0 & 1.0 & 0 & 0 & 0 & 0\\\\1.0 & 1.0 & 0 & 1.0 & 0 & 0 & 0 & 0\\\\1.0 & 1.0 & 0 & 0 & 1.0 & 0 & 0 & 0\\\\1.0 & 1.0 & 0 & 0 & 1.0 & 0 & 0 & 0\\\\1.0 & 1.0 & 0 & 0 & 0 & 1.0 & 0 & 0\\\\1.0 & 1.0 & 0 & 0 & 0 & 1.0 & 0 & 0\\\\1.0 & 1.0 & 0 & 0 & 0 & 0 & 0 & 1.0\\\\1.0 & 1.0 & 0 & 0 & 0 & 0 & 0 & 1.0\\\\1.0 & 0 & 1.0 & 1.0 & 0 & 0 & 0 & 0\\\\1.0 & 0 & 1.0 & 1.0 & 0 & 0 & 0 & 0\\\\1.0 & 0 & 1.0 & 0 & 1.0 & 0 & 0 & 0\\\\1.0 & 0 & 1.0 & 0 & 1.0 & 0 & 0 & 0\\\\1.0 & 0 & 1.0 & 0 & 0 & 1.0 & 0 & 0\\\\1.0 & 0 & 1.0 & 0 & 0 & 1.0 & 0 & 0\\\\1.0 & 0 & 1.0 & 0 & 0 & 0 & 0 & 1.0\\\\1.0 & 0 & 1.0 & 0 & 0 & 0 & 0 & 1.0\\\\1.0 & 0 & 0 & 1.0 & 0 & 0 & 1.0 & 0\\\\1.0 & 0 & 0 & 1.0 & 0 & 0 & 1.0 & 0\\\\1.0 & 0 & 0 & 0 & 1.0 & 0 & 1.0 & 0\\\\1.0 & 0 & 0 & 0 & 1.0 & 0 & 1.0 & 0\\\\1.0 & 0 & 0 & 0 & 0 & 1.0 & 1.0 & 0\\\\1.0 & 0 & 0 & 0 & 0 & 1.0 & 1.0 & 0\\\\1.0 & 0 & 0 & 0 & 0 & 0 & 1.0 & 1.0\\\\1.0 & 0 & 0 & 0 & 0 & 0 & 1.0 & 1.0\\end{matrix}\\right]$"
      ],
      "text/plain": [
       "Matrix([\n",
       "[1.0, 1.0,   0, 1.0,   0,   0,   0,   0],\n",
       "[1.0, 1.0,   0, 1.0,   0,   0,   0,   0],\n",
       "[1.0, 1.0,   0,   0, 1.0,   0,   0,   0],\n",
       "[1.0, 1.0,   0,   0, 1.0,   0,   0,   0],\n",
       "[1.0, 1.0,   0,   0,   0, 1.0,   0,   0],\n",
       "[1.0, 1.0,   0,   0,   0, 1.0,   0,   0],\n",
       "[1.0, 1.0,   0,   0,   0,   0,   0, 1.0],\n",
       "[1.0, 1.0,   0,   0,   0,   0,   0, 1.0],\n",
       "[1.0,   0, 1.0, 1.0,   0,   0,   0,   0],\n",
       "[1.0,   0, 1.0, 1.0,   0,   0,   0,   0],\n",
       "[1.0,   0, 1.0,   0, 1.0,   0,   0,   0],\n",
       "[1.0,   0, 1.0,   0, 1.0,   0,   0,   0],\n",
       "[1.0,   0, 1.0,   0,   0, 1.0,   0,   0],\n",
       "[1.0,   0, 1.0,   0,   0, 1.0,   0,   0],\n",
       "[1.0,   0, 1.0,   0,   0,   0,   0, 1.0],\n",
       "[1.0,   0, 1.0,   0,   0,   0,   0, 1.0],\n",
       "[1.0,   0,   0, 1.0,   0,   0, 1.0,   0],\n",
       "[1.0,   0,   0, 1.0,   0,   0, 1.0,   0],\n",
       "[1.0,   0,   0,   0, 1.0,   0, 1.0,   0],\n",
       "[1.0,   0,   0,   0, 1.0,   0, 1.0,   0],\n",
       "[1.0,   0,   0,   0,   0, 1.0, 1.0,   0],\n",
       "[1.0,   0,   0,   0,   0, 1.0, 1.0,   0],\n",
       "[1.0,   0,   0,   0,   0,   0, 1.0, 1.0],\n",
       "[1.0,   0,   0,   0,   0,   0, 1.0, 1.0]])"
      ]
     },
     "execution_count": 8,
     "metadata": {},
     "output_type": "execute_result"
    }
   ],
   "source": [
    "X_reduced: np.ndarray = np.round(np.dot(X_1, A), 4)\n",
    "print(X_reduced.shape)\n",
    "sp.Matrix(X_reduced)"
   ]
  },
  {
   "cell_type": "markdown",
   "id": "7b467cdd-eb7d-4c86-83f7-76727e0a2a74",
   "metadata": {},
   "source": [
    "# МНК-оценивание редуцированной модели"
   ]
  },
  {
   "attachments": {
    "836eb683-b2f9-4d44-a51d-447862dc8c30.png": {
     "image/png": "[encoded data removed]"
    }
   },
   "cell_type": "markdown",
   "id": "75790250-c926-4183-be49-c37c4b9ff4f4",
   "metadata": {},
   "source": [
    "![image.png](attachment:836eb683-b2f9-4d44-a51d-447862dc8c30.png)"
   ]
  },
  {
   "cell_type": "code",
   "execution_count": 9,
   "id": "9e164170-9341-4b6b-b765-0f4594de5373",
   "metadata": {},
   "outputs": [
    {
     "name": "stdout",
     "output_type": "stream",
     "text": [
      "(24, 1)\n"
     ]
    },
    {
     "data": {
      "text/latex": [
       "$\\displaystyle \\left[\\begin{matrix}3.1\\\\2.9\\\\4.1\\\\3.9\\\\2.1\\\\1.9\\\\2.1\\\\1.9\\\\3.9\\\\4.1\\\\4.9\\\\5.1\\\\2.9\\\\3.1\\\\3.0\\\\3.0\\\\2.1\\\\1.9\\\\3.1\\\\2.9\\\\1.1\\\\0.9\\\\1.0\\\\1.0\\end{matrix}\\right]$"
      ],
      "text/plain": [
       "Matrix([\n",
       "[3.1],\n",
       "[2.9],\n",
       "[4.1],\n",
       "[3.9],\n",
       "[2.1],\n",
       "[1.9],\n",
       "[2.1],\n",
       "[1.9],\n",
       "[3.9],\n",
       "[4.1],\n",
       "[4.9],\n",
       "[5.1],\n",
       "[2.9],\n",
       "[3.1],\n",
       "[3.0],\n",
       "[3.0],\n",
       "[2.1],\n",
       "[1.9],\n",
       "[3.1],\n",
       "[2.9],\n",
       "[1.1],\n",
       "[0.9],\n",
       "[1.0],\n",
       "[1.0]])"
      ]
     },
     "execution_count": 9,
     "metadata": {},
     "output_type": "execute_result"
    }
   ],
   "source": [
    "Y = [\n",
    "    # A1\n",
    "    3.1, 2.9, \n",
    "    4.1, 3.9, \n",
    "    2.1, 1.9,\n",
    "    2.1, 1.9,\n",
    "    # A2\n",
    "    3.9, 4.1, \n",
    "    4.9, 5.1,\n",
    "    2.9, 3.1,\n",
    "    3.0, 3.0,\n",
    "    # A3\n",
    "    2.1, 1.9,\n",
    "    3.1, 2.9,\n",
    "    1.1, 0.9,\n",
    "    1.0, 1.0\n",
    "]\n",
    "Y: np.array = np.array([Y]).T\n",
    "print(Y.shape)\n",
    "sp.Matrix(Y)"
   ]
  },
  {
   "cell_type": "code",
   "execution_count": 10,
   "id": "674fe8c3-44c6-4b6b-b4fd-55d303924105",
   "metadata": {},
   "outputs": [
    {
     "name": "stdout",
     "output_type": "stream",
     "text": [
      "(6, 1)\n"
     ]
    },
    {
     "data": {
      "text/latex": [
       "$\\displaystyle \\left[\\begin{matrix}1.0\\\\1.0\\\\2.0\\\\1.0\\\\2.0\\\\0\\end{matrix}\\right]$"
      ],
      "text/plain": [
       "Matrix([\n",
       "[1.0],\n",
       "[1.0],\n",
       "[2.0],\n",
       "[1.0],\n",
       "[2.0],\n",
       "[  0]])"
      ]
     },
     "execution_count": 10,
     "metadata": {},
     "output_type": "execute_result"
    }
   ],
   "source": [
    "theta_dashed: np.ndarray = np.round(np.dot(np.dot(inv(np.dot(X_1.T, X_1)), X_1.T), Y), 4)\n",
    "print(theta_dashed.shape)\n",
    "sp.Matrix(theta_dashed)"
   ]
  },
  {
   "cell_type": "markdown",
   "id": "eb11a333-ec7b-48e2-866c-be9ab0640458",
   "metadata": {},
   "source": [
    "# Проверка гипотез"
   ]
  },
  {
   "attachments": {
    "c8f7c9c6-4bf0-4b19-964f-3851bd1224b4.png": {
     "image/png": "[encoded data removed]"
    }
   },
   "cell_type": "markdown",
   "id": "31c90fad-74a9-4d88-af0e-3c8941cb8bb0",
   "metadata": {},
   "source": [
    "![image.png](attachment:c8f7c9c6-4bf0-4b19-964f-3851bd1224b4.png)"
   ]
  },
  {
   "cell_type": "markdown",
   "id": "69c547cf-89de-47b3-87ff-423ca767e95d",
   "metadata": {},
   "source": [
    "# Проверка гипотез о незначимости различий в эффектах уровней"
   ]
  },
  {
   "attachments": {
    "05832176-7d3e-44bb-8148-2476ee85fc6e.png": {
     "image/png": "[encoded data removed]"
    }
   },
   "cell_type": "markdown",
   "id": "70cc8a00-5483-4e6f-b9af-950a611254bc",
   "metadata": {},
   "source": [
    "![image.png](attachment:05832176-7d3e-44bb-8148-2476ee85fc6e.png)"
   ]
  },
  {
   "cell_type": "code",
   "execution_count": 62,
   "id": "49c94377-cf10-47d5-b26c-8b00afa02275",
   "metadata": {},
   "outputs": [
    {
     "data": {
      "text/plain": [
       "1.3624999999999998"
      ]
     },
     "execution_count": 62,
     "metadata": {},
     "output_type": "execute_result"
    }
   ],
   "source": [
    "a_i = [theta_dashed[i + 1] for i in range(theta_dashed.shape[0] - 1)]\n",
    "a_i_ld = [0] * 5\n",
    "c: int = 0\n",
    "variance: float = np.var(Y)\n",
    "d: np.ndarray = np.diag(inv(X_1.T @ X_1))\n",
    "\n",
    "d_jj = [value for value in d]\n",
    "d_jj.pop(0)\n",
    "variance"
   ]
  },
  {
   "cell_type": "code",
   "execution_count": 58,
   "id": "ec10ea53-27f1-44ed-9fed-1fc1d4cfc352",
   "metadata": {},
   "outputs": [],
   "source": [
    "def get_f_critical(alpha: float = 0.05, dfn: int = 7, dfd: int = 24) -> float:\n",
    "    \"\"\"\n",
    "    Поиск квантиля распределения Фишера.\n",
    "    \n",
    "    alpha - Уровень значимости.\n",
    "    dfn - Число факторов.\n",
    "    dfd - Размер выборки.\n",
    "    \"\"\"\n",
    "    return f.ppf(1 - alpha, dfn, dfd)"
   ]
  },
  {
   "cell_type": "code",
   "execution_count": 67,
   "id": "d5acd1ec-0d27-4de5-bc2f-e1f857559e88",
   "metadata": {},
   "outputs": [
    {
     "data": {
      "text/plain": [
       "2.4226285334209154"
      ]
     },
     "execution_count": 67,
     "metadata": {},
     "output_type": "execute_result"
    }
   ],
   "source": [
    "get_f_critical()"
   ]
  },
  {
   "cell_type": "code",
   "execution_count": null,
   "id": "6d2e0f38-543a-4268-a396-31294a04b535",
   "metadata": {},
   "outputs": [],
   "source": [
    "def check_hypothesis(a_i: np.ndarray, a_i_ld: np.ndarray, d_jj: float, theta_dashed: np.ndarray = theta_dashed) -> None:\n",
    "    \"\"\"\n",
    "    a_i - Линейно независимый член.\n",
    "    a_i_ld - Линейно зависимый член.\n",
    "    d_jj  - Диагональный элемент.\n",
    "    \"\"\"\n",
    "    F_a: float = get_f_critical()\n",
    "    variance: float = np.var(Y)\n",
    "    c: int = 0\n",
    "\n",
    "    F: np.ndarray = ((a_i - a_i_ld - c) ** 2) / (variance ** 2 * d_jj)\n",
    "    print()\n",
    "\n",
    "    print('Гипотеза о незначимости верна!') if F <= F_a else print('Гипотеза о незначимости не верна!')"
   ]
  },
  {
   "cell_type": "code",
   "execution_count": null,
   "id": "5f93c5da-5ca8-4a98-a415-ea872938bf04",
   "metadata": {
    "scrolled": true
   },
   "outputs": [],
   "source": [
    "list(map(check_hypothesis, a_i, a_i_ld, d_jj))"
   ]
  },
  {
   "cell_type": "code",
   "execution_count": null,
   "id": "b618ea30-4384-46ef-9016-4c101b4be3a9",
   "metadata": {},
   "outputs": [],
   "source": []
  }
 ],
 "metadata": {
  "kernelspec": {
   "display_name": "Python 3 (ipykernel)",
   "language": "python",
   "name": "python3"
  },
  "language_info": {
   "codemirror_mode": {
    "name": "ipython",
    "version": 3
   },
   "file_extension": ".py",
   "mimetype": "text/x-python",
   "name": "python",
   "nbconvert_exporter": "python",
   "pygments_lexer": "ipython3",
   "version": "3.12.0"
  }
 },
 "nbformat": 4,
 "nbformat_minor": 5
}
