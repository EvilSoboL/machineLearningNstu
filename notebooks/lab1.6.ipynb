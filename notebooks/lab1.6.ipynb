{
 "cells": [
  {
   "cell_type": "code",
   "execution_count": 11,
   "id": "949325f8-0fa1-49fe-b881-2d02d0b57769",
   "metadata": {
    "scrolled": true
   },
   "outputs": [],
   "source": [
    "import random\n",
    "import pandas as pd\n",
    "\n",
    "# Константы для генерации данных\n",
    "NUM_ITEMS = 100\n",
    "NUM_TRANSACTIONS = 100000\n",
    "NUM_RULES_HIGH_SUPPORT = 3\n",
    "NUM_RULES_MEDIUM_SUPPORT = 5\n",
    "NUM_RULES_LOW_SUPPORT = 10\n",
    "\n",
    "# Вспомогательная функция для генерации правил\n",
    "def generate_rules(num_rules, itemset_size):\n",
    "    rules = []\n",
    "    for _ in range(num_rules):\n",
    "        items = random.sample(range(1, NUM_ITEMS + 1), itemset_size)\n",
    "        rules.append(items)\n",
    "    return rules\n",
    "\n",
    "# Генерация правил разного уровня поддержки\n",
    "high_support_rules = generate_rules(NUM_RULES_HIGH_SUPPORT, 2)\n",
    "medium_support_rules = generate_rules(NUM_RULES_MEDIUM_SUPPORT, 3)\n",
    "low_support_rules = generate_rules(NUM_RULES_LOW_SUPPORT, 4)\n",
    "\n",
    "# Вспомогательная функция для создания транзакции\n",
    "def create_transaction():\n",
    "    transaction = set()\n",
    "    # Добавление правил с вероятностью, соответствующей уровню поддержки\n",
    "    if random.random() < 0.1:  # Высокая поддержка\n",
    "        transaction.update(random.choice(high_support_rules))\n",
    "    if random.random() < 0.05: # Средняя поддержка\n",
    "        transaction.update(random.choice(medium_support_rules))\n",
    "    if random.random() < 0.01: # Низкая поддержка\n",
    "        transaction.update(random.choice(low_support_rules))\n",
    "    # Добавление случайных элементов\n",
    "    num_additional_items = random.randint(0, 5)  # До 5 дополнительных элементов\n",
    "    additional_items = random.sample(range(1, NUM_ITEMS + 1), num_additional_items)\n",
    "    transaction.update(additional_items)\n",
    "    return list(transaction)\n",
    "\n",
    "# Генерация транзакций\n",
    "transactions = [create_transaction() for _ in range(NUM_TRANSACTIONS)]"
   ]
  },
  {
   "cell_type": "code",
   "execution_count": 13,
   "id": "6d4d07ea-9b40-4930-ae97-c873f96ef3b7",
   "metadata": {},
   "outputs": [
    {
     "name": "stdout",
     "output_type": "stream",
     "text": [
      "Частые наборы элементов:\n"
     ]
    }
   ],
   "source": [
    "def generate_candidates(prev_itemsets, k):\n",
    "    \"\"\"Генерация кандидатов для нового уровня из предыдущего набора частых наборов\"\"\"\n",
    "    candidates = set()\n",
    "    for a in prev_itemsets:\n",
    "        for b in prev_itemsets:\n",
    "            union = a.union(b)\n",
    "            if len(union) == k:\n",
    "                candidates.add(union)\n",
    "    return candidates\n",
    "\n",
    "def apriori(transactions, min_support):\n",
    "    \"\"\"Реализация алгоритма Apriori для нахождения частых наборов\"\"\"\n",
    "    # Первый шаг: подсчёт одноэлементных частых наборов\n",
    "    item_support = {}\n",
    "    for transaction in transactions:\n",
    "        for item in transaction:\n",
    "            itemset = frozenset([item])\n",
    "            if itemset in item_support:\n",
    "                item_support[itemset] += 1\n",
    "            else:\n",
    "                item_support[itemset] = 1\n",
    "\n",
    "    n_transactions = len(transactions)\n",
    "    itemsets = [itemset for itemset, count in item_support.items() if count / n_transactions >= min_support]\n",
    "\n",
    "    # Хранение всех частых наборов\n",
    "    frequent_itemsets = list(itemsets)\n",
    "    k = 2\n",
    "\n",
    "    # Итерация по уровням\n",
    "    while itemsets:\n",
    "        candidates = generate_candidates(itemsets, k)\n",
    "        support_counts = defaultdict(int)\n",
    "        for transaction in transactions:\n",
    "            for candidate in candidates:\n",
    "                if candidate.issubset(transaction):\n",
    "                    support_counts[candidate] += 1\n",
    "\n",
    "        # Фильтрация кандидатов с достаточной поддержкой\n",
    "        itemsets = [itemset for itemset, count in support_counts.items() if count / n_transactions >= min_support]\n",
    "        frequent_itemsets.extend(itemsets)\n",
    "        k += 1\n",
    "\n",
    "    return frequent_itemsets\n",
    "\n",
    "# Пример использования\n",
    "#transactions = load_transactions()  # Загрузка транзакций из файла\n",
    "min_support = 0.1  # Минимальный уровень поддержки\n",
    "frequent_itemsets = apriori(transactions, min_support)\n",
    "print(\"Частые наборы элементов:\")\n",
    "for itemset in frequent_itemsets:\n",
    "    print(itemset)"
   ]
  },
  {
   "cell_type": "code",
   "execution_count": null,
   "id": "5520a6dc-e25c-4f4e-86b1-d138e027056b",
   "metadata": {},
   "outputs": [],
   "source": []
  }
 ],
 "metadata": {
  "kernelspec": {
   "display_name": "Python 3 (ipykernel)",
   "language": "python",
   "name": "python3"
  },
  "language_info": {
   "codemirror_mode": {
    "name": "ipython",
    "version": 3
   },
   "file_extension": ".py",
   "mimetype": "text/x-python",
   "name": "python",
   "nbconvert_exporter": "python",
   "pygments_lexer": "ipython3",
   "version": "3.12.0"
  }
 },
 "nbformat": 4,
 "nbformat_minor": 5
}
